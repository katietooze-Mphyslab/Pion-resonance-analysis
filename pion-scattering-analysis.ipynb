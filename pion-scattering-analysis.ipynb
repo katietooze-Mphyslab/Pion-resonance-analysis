{
 "cells": [
  {
   "cell_type": "code",
   "execution_count": 117,
   "id": "88e982f0-d0a4-4425-abf0-854ab6be516c",
   "metadata": {},
   "outputs": [],
   "source": [
    "#importing necessary modules\n",
    "import numpy as np\n",
    "from matplotlib import pyplot as plt\n",
    "\n",
    "#unpacking data from txt file\n",
    "from numpy import array\n",
    "f = open('data1.txt','r')\n",
    "p_e = [] ; p_n = [] ; p_err = []\n",
    "\n",
    "for line in f:\n",
    "    estr, nstr, errstr = line.split()\n",
    "    p_e.append(float(estr))\n",
    "    p_n.append(float(nstr))\n",
    "    p_err.append(float(errstr))\n",
    "\n",
    "f.close()\n",
    "p_e = array(p_e)\n",
    "p_n = array(p_n)\n",
    "p_err = array(p_err)"
   ]
  },
  {
   "cell_type": "code",
   "execution_count": 119,
   "id": "4e7672a9-af10-4dd4-9576-ea6deeee860a",
   "metadata": {},
   "outputs": [],
   "source": [
    "#assigning data to the correct axis\n",
    "x = p_e\n",
    "y = p_n\n",
    "\n",
    "#plotting the curve based on observed data\n",
    "plt.xlabel(\"Pion Energy\")\n",
    "plt.ylabel(\"Number of Pions\")\n",
    "plt.errorbar(x,y, yerr= p_err, linewidth=0, marker='o', ecolor='black', elinewidth=1)\n",
    "plt.plot(x, y)\n",
    "\n",
    "#plotting the theoretical curve over the experimental curve \n",
    "def theory(p_e,w):\n",
    "    \"\"\"\n",
    "    Calculate the theoretical number of scattered pions for a range of energies\n",
    "\n",
    "    Parameters:\n",
    "    ----------------\n",
    "    p_e: array\n",
    "       energy of the incident pions (MeV)\n",
    "    w: float\n",
    "       resonance width (MeV)\n",
    "\n",
    "    Returns:\n",
    "    ----------------\n",
    "    n_e: array\n",
    "         theoretical number of incident pions corresponding to respective values of incident energy.\n",
    "    \"\"\"\n",
    "    n_e = ((1.467*10**7)/(((w**2)/4)+((p_e-1232)**2)))\n",
    "    return n_e\n",
    "#value of w calculated using data from the middle of the data set\n",
    "w = 116\n",
    "t_e = theory(p_e, w)\n",
    "\n",
    "plt.plot(x, t_e)\n",
    "plt.savefig(\"Experimental_curve.png\")\n",
    "plt.close()"
   ]
  },
  {
   "cell_type": "code",
   "execution_count": 121,
   "id": "feceae75-f5ed-49f9-8553-a1a55d0f4f0e",
   "metadata": {},
   "outputs": [
    {
     "name": "stdout",
     "output_type": "stream",
     "text": [
      "Discrepancy: 101.0208334806735\n"
     ]
    }
   ],
   "source": [
    "#creating a discrepancy function to see how well my theoretical curve fits \n",
    "\n",
    "def discrepancy (p_e, p_n, p_err, w):\n",
    "    \"\"\"\n",
    "    Calculate the discrepancy between theoretical and experimental number of pions\n",
    "\n",
    "    Parameters:\n",
    "    ----------------\n",
    "    p_e : array\n",
    "          energies of observed pions (MeV)\n",
    "    p_n : array\n",
    "          experimental number of pions at a range of energy values\n",
    "    p_err : array\n",
    "            uncertainty in the experimental number of pions\n",
    "    w : float\n",
    "        resonance width (MeV)\n",
    "\n",
    "    Returns:\n",
    "    -----------------\n",
    "    d : float\n",
    "           the discrepancy between our observed and theoretical data\n",
    "    \"\"\"\n",
    "    n_e = ((1.467*10**7)/(((w**2)/4)+((p_e-1232)**2)))\n",
    "    residuals = p_n - n_e\n",
    "\n",
    "    d = np.sum((residuals/p_err)**2)\n",
    "    return d\n",
    "\n",
    "d = discrepancy(p_e, p_n, p_err, w)\n",
    "print(\"Discrepancy:\", d)"
   ]
  },
  {
   "cell_type": "code",
   "execution_count": 123,
   "id": "a1e6aa1a-5163-47c5-97cf-1f7e391d2013",
   "metadata": {},
   "outputs": [
    {
     "name": "stdout",
     "output_type": "stream",
     "text": [
      "Best-fit w:113.63 MeV +/ 2.24 MeV\n"
     ]
    }
   ],
   "source": [
    "#using scipy curve fit to reduce the sum of squares of residuals\n",
    "from scipy.optimize import curve_fit\n",
    "\n",
    "#using my initial value of w to increase the stability of the fit and reduce the risk of converging at the wrong minimum\n",
    "w = 116\n",
    "\n",
    "#using the function to find the optimal value of w (popt) and its respective variance (pcov)\n",
    "popt, pcov = curve_fit(theory, p_e, p_n, p0=[w], sigma=p_err, absolute_sigma=True)\n",
    "\n",
    "#obtaining the most optimal value of w as a single float\n",
    "w_opt = popt[0]\n",
    "\n",
    "#using covariance matrix to extract the variance of paramter w and taking the square root to find standard deviation\n",
    "w_err = np.sqrt(np.diag(pcov))[0]\n",
    "\n",
    "#rounding answers to 2 decimal places\n",
    "print(f\"Best-fit w:{w_opt:.2f} MeV +/ {w_err:.2f} MeV\")"
   ]
  },
  {
   "cell_type": "code",
   "execution_count": 125,
   "id": "8795e323-d7d7-49fe-aa95-b354c42def2c",
   "metadata": {},
   "outputs": [
    {
     "name": "stdout",
     "output_type": "stream",
     "text": [
      "Random sample- W = 112.70 MeV ± 2.23 MeV\n"
     ]
    }
   ],
   "source": [
    "#using gaussian distribution to compute a value of w and respective error\n",
    "#generating a list to store each students value of w\n",
    "w_random = []\n",
    "#size of sample set\n",
    "num_students = 1000\n",
    "\n",
    "#simulating a new dataset\n",
    "for students in range (num_students):\n",
    "    #loc being the centre of distribution and scale being the standard deviation\n",
    "    simulation = np.random.normal(loc= p_n, scale= p_err)\n",
    "    #fitting my theory to the simulation, no need for variance so using a placeholder\n",
    "    popt, _ = curve_fit(theory, p_e, simulation, p0=[w])\n",
    "    #storing the data\n",
    "    w_random.append(popt[0])\n",
    "\n",
    "#calculating mean and standard deviation for uncertainties\n",
    "w_mean = np.mean(w_random)\n",
    "w_err = np.std(w_random)\n",
    "\n",
    "print(f\"Random sample- W = {w_mean:.2f} MeV ± {w_err:.2f} MeV\")"
   ]
  },
  {
   "cell_type": "code",
   "execution_count": 127,
   "id": "5c8bd289-ff04-4160-b2d3-3399b211242c",
   "metadata": {},
   "outputs": [],
   "source": [
    "#plotting a histogram of the random sample values of w\n",
    "\n",
    "plt.hist(w_random, bins=30,)\n",
    "plt.title(\"Distribution of W values from random sampling\")\n",
    "plt.xlabel(\"W (MeV)\")\n",
    "plt.ylabel(\"Frequency\")\n",
    "plt.savefig(\"Histogram_W_ensemble.png\")\n",
    "plt.close()"
   ]
  },
  {
   "cell_type": "code",
   "execution_count": null,
   "id": "b1f1923a-5682-4d75-a463-42673ecafb2b",
   "metadata": {},
   "outputs": [],
   "source": []
  }
 ],
 "metadata": {
  "kernelspec": {
   "display_name": "Python 3 (ipykernel)",
   "language": "python",
   "name": "python3"
  },
  "language_info": {
   "codemirror_mode": {
    "name": "ipython",
    "version": 3
   },
   "file_extension": ".py",
   "mimetype": "text/x-python",
   "name": "python",
   "nbconvert_exporter": "python",
   "pygments_lexer": "ipython3",
   "version": "3.12.4"
  }
 },
 "nbformat": 4,
 "nbformat_minor": 5
}
